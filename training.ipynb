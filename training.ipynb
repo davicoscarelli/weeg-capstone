{
  "cells": [
    {
      "cell_type": "markdown",
      "metadata": {},
      "source": [
        "# Weeg Content Type Classifier – Model Training\n",
        "\n",
        "This notebook trains a content-type classification model used in the Weeg Hive Platform to optimize web content delivery in bandwidth-constrained environments. It classifies websites into categories like news, blog, education, etc., using structural and semantic features.\n",
        "\n",
        "Steps include:\n",
        "- Loading and preprocessing data\n",
        "- Extracting HTML and textual features\n",
        "- Applying TF-IDF and Sentence-BERT\n",
        "- Training a Random Forest with class balancing (SMOTE)\n",
        "- Evaluating and visualizing model performance"
      ]
    },
    {
      "cell_type": "markdown",
      "metadata": {},
      "source": [
        "### Import Libraries and Tools\n",
        "\n",
        "We import all required libraries, including `scikit-learn`, `Goose3` for content extraction, `BeautifulSoup` for HTML parsing, `sentence-transformers` for semantic embeddings, and `imblearn` for class balancing."
      ]
    },
    {
      "cell_type": "code",
      "execution_count": 4,
      "metadata": {
        "id": "KU6khWEQlDyU"
      },
      "outputs": [
        {
          "name": "stderr",
          "output_type": "stream",
          "text": [
            "/Users/davicoscarelli/.matplotlib is not a writable directory\n",
            "Matplotlib created a temporary cache directory at /var/folders/z3/ptrv6c7n0gl5f1pgzb7w2m340000gn/T/matplotlib-dda33b0w because there was an issue with the default path (/Users/davicoscarelli/.matplotlib); it is highly recommended to set the MPLCONFIGDIR environment variable to a writable directory, in particular to speed up the import of Matplotlib and to better support multiprocessing.\n",
            "Matplotlib is building the font cache; this may take a moment.\n"
          ]
        }
      ],
      "source": [
        "import requests\n",
        "from bs4 import BeautifulSoup\n",
        "import pandas as pd\n",
        "import time\n",
        "from tqdm import tqdm\n",
        "from goose3 import Goose\n",
        "from sklearn.ensemble import RandomForestClassifier\n",
        "from sklearn.model_selection import train_test_split, cross_validate, GridSearchCV\n",
        "from sklearn.metrics import accuracy_score, classification_report, ConfusionMatrixDisplay\n",
        "from sklearn.preprocessing import LabelEncoder\n",
        "from sklearn.feature_extraction.text import TfidfVectorizer\n",
        "import matplotlib.pyplot as plt\n",
        "import numpy as np\n",
        "from scipy.sparse import hstack\n",
        "from sentence_transformers import SentenceTransformer\n",
        "from imblearn.over_sampling import SMOTE\n",
        "import pickle\n",
        "import os"
      ]
    },
    {
      "cell_type": "markdown",
      "metadata": {},
      "source": [
        "### Fetch HTML Content and Metadata from URLs\n",
        "\n",
        "We use Goose3 to extract metadata (title, description, keywords, etc.) and raw HTML from a list of websites. This forms the core input for our content classifier. Invalid or unreachable URLs are skipped."
      ]
    },
    {
      "cell_type": "code",
      "execution_count": 2,
      "metadata": {
        "colab": {
          "base_uri": "https://localhost:8080/",
          "height": 391
        },
        "id": "DcJKDPq_pNgK",
        "outputId": "c30a3bac-a954-41cb-d79e-5459bfde5599"
      },
      "outputs": [
        {
          "name": "stderr",
          "output_type": "stream",
          "text": [
            "Processing websites:  15%|█▌        | 214/1408 [16:21<1:12:09,  3.63s/it]Publish date 7 minutes ago could not be resolved to UTC\n",
            "Processing websites:  15%|█▌        | 216/1408 [16:32<1:26:16,  4.34s/it]Publish date 39 mins could not be resolved to UTC\n",
            "Processing websites:  16%|█▋        | 229/1408 [17:09<59:10,  3.01s/it]  Publish date Created: 04 April 2025 could not be resolved to UTC\n",
            "Processing websites:  20%|█▉        | 279/1408 [20:37<1:04:39,  3.44s/it]Publish date 5 days ago could not be resolved to UTC\n",
            "Processing websites:  21%|██        | 289/1408 [21:53<3:43:40, 11.99s/it]Publish date 23h ago could not be resolved to UTC\n",
            "Processing websites:  21%|██        | 296/1408 [22:12<1:08:30,  3.70s/it]Publish date 7 hours ago could not be resolved to UTC\n",
            "Processing websites:  25%|██▌       | 357/1408 [25:11<38:52,  2.22s/it]  Publish date Today at 3:27 AM could not be resolved to UTC\n",
            "Processing websites:  35%|███▌      | 496/1408 [33:11<47:24,  3.12s/it]  Publish date 31m ago could not be resolved to UTC\n",
            "Processing websites:  36%|███▌      | 506/1408 [34:11<1:00:52,  4.05s/it]Publish date 1h ago could not be resolved to UTC\n",
            "Processing websites:  36%|███▌      | 508/1408 [34:20<1:03:55,  4.26s/it]Publish date 5 hours ago could not be resolved to UTC\n",
            "Processing websites:  36%|███▌      | 510/1408 [34:39<1:38:47,  6.60s/it]Publish date April 3, 2025 • 5:49 PM EDT could not be resolved to UTC\n",
            "Processing websites:  37%|███▋      | 515/1408 [34:54<56:38,  3.81s/it]  Publish date 2 hours ago could not be resolved to UTC\n",
            "Processing websites:  37%|███▋      | 516/1408 [34:58<59:03,  3.97s/it]Publish date 4hrs ago could not be resolved to UTC\n",
            "Processing websites:  37%|███▋      | 524/1408 [35:21<41:39,  2.83s/it]Publish date 6 hrs ago could not be resolved to UTC\n",
            "Processing websites:  38%|███▊      | 540/1408 [36:16<47:04,  3.25s/it]  Publish date onAugust 29, 2023 could not be resolved to UTC\n",
            "Processing websites:  39%|███▉      | 550/1408 [36:44<44:30,  3.11s/it]Publish date 2 hours ago could not be resolved to UTC\n",
            "Processing websites:  39%|███▉      | 552/1408 [36:51<46:42,  3.27s/it]Publish date 32m ago could not be resolved to UTC\n",
            "Processing websites:  40%|███▉      | 557/1408 [37:05<39:00,  2.75s/it]Publish date 10 minutes ago could not be resolved to UTC\n",
            "Processing websites:  41%|████      | 580/1408 [38:02<32:51,  2.38s/it]  Publish date Junam20 11, 2020 could not be resolved to UTC\n",
            "Processing websites:  54%|█████▎    | 755/1408 [50:37<33:59,  3.12s/it]  Publish date ['2024-03-28T10:12:03+00:00', '2024-03-28T10:12:03+02:00'] could not be resolved to UTC\n",
            "Processing websites:  60%|█████▉    | 844/1408 [55:44<23:53,  2.54s/it]  Parser lxml failed to parse the content\n",
            "Parser soup failed to parse the content\n",
            "Processing websites:  61%|██████    | 856/1408 [56:26<26:44,  2.91s/it]Parser lxml failed to parse the content\n",
            "Parser soup failed to parse the content\n",
            "Processing websites:  62%|██████▏   | 869/1408 [57:39<36:14,  4.03s/it]  Publish date asked 4 mins ago could not be resolved to UTC\n",
            "Processing websites:  62%|██████▏   | 874/1408 [58:00<46:45,  5.25s/it]Publish date 7 minutes ago could not be resolved to UTC\n",
            "Processing websites:  62%|██████▏   | 875/1408 [58:03<39:46,  4.48s/it]Publish date 38 minutes ago could not be resolved to UTC\n",
            "Processing websites:  76%|███████▌  | 1064/1408 [1:08:41<17:12,  3.00s/it]Publish date (2025) could not be resolved to UTC\n",
            "Processing websites:  76%|███████▋  | 1074/1408 [1:09:41<36:39,  6.59s/it]Parser lxml failed to parse the content\n",
            "Parser soup failed to parse the content\n",
            "Processing websites:  77%|███████▋  | 1090/1408 [1:10:31<16:41,  3.15s/it]Parser lxml failed to parse the content\n",
            "Parser soup failed to parse the content\n",
            "Processing websites:  86%|████████▌ | 1212/1408 [1:20:34<11:57,  3.66s/it]  Parser lxml failed to parse the content\n",
            "Parser soup failed to parse the content\n",
            "Processing websites:  88%|████████▊ | 1244/1408 [1:22:26<09:05,  3.33s/it]Publish date Outubro 26, 2024 could not be resolved to UTC\n",
            "Processing websites:  94%|█████████▍| 1326/1408 [1:27:53<06:09,  4.51s/it]Parser lxml failed to parse the content\n",
            "Parser soup failed to parse the content\n",
            "Processing websites:  98%|█████████▊| 1383/1408 [1:31:01<00:44,  1.79s/it]Parser lxml failed to parse the content\n",
            "Parser soup failed to parse the content\n",
            "Processing websites:  99%|█████████▊| 1387/1408 [1:31:10<00:44,  2.13s/it]Parser lxml failed to parse the content\n",
            "Parser soup failed to parse the content\n",
            "Processing websites:  99%|█████████▊| 1390/1408 [1:31:20<01:00,  3.34s/it]Parser lxml failed to parse the content\n",
            "Parser soup failed to parse the content\n",
            "Processing websites: 100%|██████████| 1408/1408 [1:32:15<00:00,  3.93s/it]\n"
          ]
        }
      ],
      "source": [
        "# Load the dataset\n",
        "file_path = 'data/website_classification.csv'\n",
        "website_data = pd.read_csv(file_path)\n",
        "\n",
        "# Initialize Goose\n",
        "g = Goose()\n",
        "\n",
        "# Function to fetch HTML content and metadata\n",
        "def fetch_website_data(url):\n",
        "    try:\n",
        "        # Use Goose to extract additional information\n",
        "        article = g.extract(url=url)\n",
        "        if not article:\n",
        "            return None\n",
        "\n",
        "        # Gather metadata and other info\n",
        "        info = article.infos\n",
        "        metadata = {\n",
        "            'title': info.get('title'),\n",
        "            'description': info.get('meta', {}).get('description'),\n",
        "            'lang': info.get('meta', {}).get('lang'),\n",
        "            'keywords': info.get('meta', {}).get('keywords'),\n",
        "            'favicon': info.get('meta', {}).get('favicon'),\n",
        "            'canonical': info.get('meta', {}).get('canonical'),\n",
        "            'encoding': info.get('meta', {}).get('encoding'),\n",
        "            'domain': info.get('domain'),\n",
        "            'image': info.get('image'),\n",
        "            'cleaned_text': info.get('cleaned_text'),\n",
        "            'authors': info.get('authors'),\n",
        "            'publish_date': info.get('publish_date')\n",
        "        }\n",
        "\n",
        "        # Additionally, fetch raw HTML content\n",
        "        response = requests.get(url, timeout=10)\n",
        "        response.raise_for_status()\n",
        "        metadata['html_content'] = response.text\n",
        "\n",
        "        return metadata\n",
        "    except Exception as e:\n",
        "        return None\n",
        "\n",
        "# Create a new list to store data with successfully fetched HTML content and layout categories\n",
        "html_data = []\n",
        "\n",
        "# Iterate through the DataFrame with a progress bar\n",
        "for _, row in tqdm(website_data.iterrows(), total=len(website_data), desc=\"Processing websites\"):\n",
        "    url = row['website_url']\n",
        "    category = row['Category']\n",
        "\n",
        "    # Fetch website data using Goose\n",
        "    website_data = fetch_website_data(url)\n",
        "\n",
        "    if website_data:\n",
        "      layout_type = category\n",
        "      # Append only successfully fetched data\n",
        "      website_data.update({\n",
        "            'website_url': url,\n",
        "            'category': category,\n",
        "            'layout_type': layout_type\n",
        "        })\n",
        "      html_data.append(website_data)\n",
        "\n",
        "    # Pause to avoid overloading the server\n",
        "    time.sleep(0.5)\n",
        "\n",
        "# Convert the results into a DataFrame\n",
        "html_df = pd.DataFrame(html_data)\n"
      ]
    },
    {
      "cell_type": "markdown",
      "metadata": {},
      "source": [
        "### Save Extracted Website Data\n",
        "\n",
        "After successful extraction, let's preview and save the data (including raw HTML and metadata) for later reuse in training."
      ]
    },
    {
      "cell_type": "code",
      "execution_count": 3,
      "metadata": {
        "colab": {
          "base_uri": "https://localhost:8080/",
          "height": 521
        },
        "id": "HYP5RSTIg7ru",
        "outputId": "b10d5b74-a5fa-473b-a90b-ab183f41c516"
      },
      "outputs": [
        {
          "data": {
            "text/html": [
              "<div>\n",
              "<style scoped>\n",
              "    .dataframe tbody tr th:only-of-type {\n",
              "        vertical-align: middle;\n",
              "    }\n",
              "\n",
              "    .dataframe tbody tr th {\n",
              "        vertical-align: top;\n",
              "    }\n",
              "\n",
              "    .dataframe thead th {\n",
              "        text-align: right;\n",
              "    }\n",
              "</style>\n",
              "<table border=\"1\" class=\"dataframe\">\n",
              "  <thead>\n",
              "    <tr style=\"text-align: right;\">\n",
              "      <th></th>\n",
              "      <th>title</th>\n",
              "      <th>description</th>\n",
              "      <th>lang</th>\n",
              "      <th>keywords</th>\n",
              "      <th>favicon</th>\n",
              "      <th>canonical</th>\n",
              "      <th>encoding</th>\n",
              "      <th>domain</th>\n",
              "      <th>image</th>\n",
              "      <th>cleaned_text</th>\n",
              "      <th>authors</th>\n",
              "      <th>publish_date</th>\n",
              "      <th>html_content</th>\n",
              "      <th>website_url</th>\n",
              "      <th>category</th>\n",
              "      <th>layout_type</th>\n",
              "    </tr>\n",
              "  </thead>\n",
              "  <tbody>\n",
              "    <tr>\n",
              "      <th>0</th>\n",
              "      <td>Booking.com | Official site | The best hotels,...</td>\n",
              "      <td>Explore the world with Booking.com. Big saving...</td>\n",
              "      <td>en</td>\n",
              "      <td>lodging, accommodation, Hotel, Hotels, special...</td>\n",
              "      <td>https://cf.bstatic.com/static/img/favicon/9ca8...</td>\n",
              "      <td>https://www.booking.com/index.en-gb.html</td>\n",
              "      <td>utf-8</td>\n",
              "      <td>www.booking.com</td>\n",
              "      <td>None</td>\n",
              "      <td>\\n• The only way to leave a review is to first...</td>\n",
              "      <td>[]</td>\n",
              "      <td>None</td>\n",
              "      <td>&lt;!DOCTYPE html&gt;\\n&lt;!--\\nYou know you could be g...</td>\n",
              "      <td>https://www.booking.com/index.html?aid=1743217</td>\n",
              "      <td>Travel</td>\n",
              "      <td>Travel</td>\n",
              "    </tr>\n",
              "    <tr>\n",
              "      <th>1</th>\n",
              "      <td>Expedia - Travel Sites - Best Travel Sites Lis...</td>\n",
              "      <td>Expedia.com is one of the most popular and wel...</td>\n",
              "      <td>en</td>\n",
              "      <td></td>\n",
              "      <td>https://travelsites.com/wp-content/themes/trav...</td>\n",
              "      <td>https://travelsites.com/expedia/</td>\n",
              "      <td>utf-8</td>\n",
              "      <td>travelsites.com</td>\n",
              "      <td>None</td>\n",
              "      <td>We could all use a vacation now and then. You ...</td>\n",
              "      <td>[]</td>\n",
              "      <td>None</td>\n",
              "      <td>&lt;!DOCTYPE html&gt;&lt;html xmlns=\"http://www.w3.org/...</td>\n",
              "      <td>https://travelsites.com/expedia/</td>\n",
              "      <td>Travel</td>\n",
              "      <td>Travel</td>\n",
              "    </tr>\n",
              "    <tr>\n",
              "      <th>2</th>\n",
              "      <td>TripAdvisor - Travel Sites - Best Travel Sites...</td>\n",
              "      <td>TripAdvisor is one of the most widely used hot...</td>\n",
              "      <td>en</td>\n",
              "      <td></td>\n",
              "      <td>https://travelsites.com/wp-content/themes/trav...</td>\n",
              "      <td>https://travelsites.com/tripadvisor/</td>\n",
              "      <td>utf-8</td>\n",
              "      <td>travelsites.com</td>\n",
              "      <td>None</td>\n",
              "      <td>Is TripAdvisor Legit? Is it safe to book with ...</td>\n",
              "      <td>[]</td>\n",
              "      <td>None</td>\n",
              "      <td>&lt;!DOCTYPE html&gt;&lt;html xmlns=\"http://www.w3.org/...</td>\n",
              "      <td>https://travelsites.com/tripadvisor/</td>\n",
              "      <td>Travel</td>\n",
              "      <td>Travel</td>\n",
              "    </tr>\n",
              "    <tr>\n",
              "      <th>3</th>\n",
              "      <td>Cheap Flights: Compare Flights &amp; Flight Tickets</td>\n",
              "      <td>momondo searches hundreds of other travel site...</td>\n",
              "      <td>en</td>\n",
              "      <td></td>\n",
              "      <td>/favicon.ico</td>\n",
              "      <td>https://www.momondo.in</td>\n",
              "      <td>None</td>\n",
              "      <td>www.momondo.in</td>\n",
              "      <td>None</td>\n",
              "      <td>We search and compare billions of real-time pr...</td>\n",
              "      <td>[]</td>\n",
              "      <td>None</td>\n",
              "      <td>&lt;!DOCTYPE html&gt;\\n&lt;html lang='en-in' dir='ltr'&gt;...</td>\n",
              "      <td>https://www.momondo.in/?ispredir=true</td>\n",
              "      <td>Travel</td>\n",
              "      <td>Travel</td>\n",
              "    </tr>\n",
              "    <tr>\n",
              "      <th>4</th>\n",
              "      <td>ebookers UK is ending</td>\n",
              "      <td>We have made the difficult decision to retire ...</td>\n",
              "      <td>en</td>\n",
              "      <td></td>\n",
              "      <td>/favicon.ico</td>\n",
              "      <td>https://www.ebookers.com/ebookers-uk-ending</td>\n",
              "      <td>utf-8</td>\n",
              "      <td>www.ebookers.com</td>\n",
              "      <td>None</td>\n",
              "      <td>We have made the decision to retire ebookers a...</td>\n",
              "      <td>[]</td>\n",
              "      <td>None</td>\n",
              "      <td>&lt;!DOCTYPE html&gt;&lt;html data-language=\"en_GB\" dir...</td>\n",
              "      <td>https://www.ebookers.com/?AFFCID=EBOOKERS-UK.n...</td>\n",
              "      <td>Travel</td>\n",
              "      <td>Travel</td>\n",
              "    </tr>\n",
              "  </tbody>\n",
              "</table>\n",
              "</div>"
            ],
            "text/plain": [
              "                                               title  \\\n",
              "0  Booking.com | Official site | The best hotels,...   \n",
              "1  Expedia - Travel Sites - Best Travel Sites Lis...   \n",
              "2  TripAdvisor - Travel Sites - Best Travel Sites...   \n",
              "3    Cheap Flights: Compare Flights & Flight Tickets   \n",
              "4                              ebookers UK is ending   \n",
              "\n",
              "                                         description lang  \\\n",
              "0  Explore the world with Booking.com. Big saving...   en   \n",
              "1  Expedia.com is one of the most popular and wel...   en   \n",
              "2  TripAdvisor is one of the most widely used hot...   en   \n",
              "3  momondo searches hundreds of other travel site...   en   \n",
              "4  We have made the difficult decision to retire ...   en   \n",
              "\n",
              "                                            keywords  \\\n",
              "0  lodging, accommodation, Hotel, Hotels, special...   \n",
              "1                                                      \n",
              "2                                                      \n",
              "3                                                      \n",
              "4                                                      \n",
              "\n",
              "                                             favicon  \\\n",
              "0  https://cf.bstatic.com/static/img/favicon/9ca8...   \n",
              "1  https://travelsites.com/wp-content/themes/trav...   \n",
              "2  https://travelsites.com/wp-content/themes/trav...   \n",
              "3                                       /favicon.ico   \n",
              "4                                       /favicon.ico   \n",
              "\n",
              "                                     canonical encoding            domain  \\\n",
              "0     https://www.booking.com/index.en-gb.html    utf-8   www.booking.com   \n",
              "1             https://travelsites.com/expedia/    utf-8   travelsites.com   \n",
              "2         https://travelsites.com/tripadvisor/    utf-8   travelsites.com   \n",
              "3                       https://www.momondo.in     None    www.momondo.in   \n",
              "4  https://www.ebookers.com/ebookers-uk-ending    utf-8  www.ebookers.com   \n",
              "\n",
              "  image                                       cleaned_text authors  \\\n",
              "0  None  \\n• The only way to leave a review is to first...      []   \n",
              "1  None  We could all use a vacation now and then. You ...      []   \n",
              "2  None  Is TripAdvisor Legit? Is it safe to book with ...      []   \n",
              "3  None  We search and compare billions of real-time pr...      []   \n",
              "4  None  We have made the decision to retire ebookers a...      []   \n",
              "\n",
              "  publish_date                                       html_content  \\\n",
              "0         None  <!DOCTYPE html>\\n<!--\\nYou know you could be g...   \n",
              "1         None  <!DOCTYPE html><html xmlns=\"http://www.w3.org/...   \n",
              "2         None  <!DOCTYPE html><html xmlns=\"http://www.w3.org/...   \n",
              "3         None  <!DOCTYPE html>\\n<html lang='en-in' dir='ltr'>...   \n",
              "4         None  <!DOCTYPE html><html data-language=\"en_GB\" dir...   \n",
              "\n",
              "                                         website_url category layout_type  \n",
              "0     https://www.booking.com/index.html?aid=1743217   Travel      Travel  \n",
              "1                   https://travelsites.com/expedia/   Travel      Travel  \n",
              "2               https://travelsites.com/tripadvisor/   Travel      Travel  \n",
              "3              https://www.momondo.in/?ispredir=true   Travel      Travel  \n",
              "4  https://www.ebookers.com/?AFFCID=EBOOKERS-UK.n...   Travel      Travel  "
            ]
          },
          "execution_count": 3,
          "metadata": {},
          "output_type": "execute_result"
        }
      ],
      "source": [
        "html_df.head()"
      ]
    },
    {
      "cell_type": "code",
      "execution_count": 4,
      "metadata": {
        "id": "2PGjp97zgQ9b"
      },
      "outputs": [],
      "source": [
        "html_df.to_csv('data/website_metadata_content.csv', index=False, escapechar='\\\\')"
      ]
    },
    {
      "cell_type": "markdown",
      "metadata": {},
      "source": [
        "### HTML Feature Engineering\n",
        "\n",
        "This function counts occurrences of specific HTML tags (like `<div>`, `<img>`, `<form>`) and computes the text-to-HTML length ratio to capture content density and structure."
      ]
    },
    {
      "cell_type": "code",
      "execution_count": 5,
      "metadata": {},
      "outputs": [],
      "source": [
        "# Load dataset\n",
        "html_df = pd.read_csv('data/website_metadata_content.csv')\n",
        "\n",
        "# Define HTML tags for feature extraction\n",
        "tags = ['div', 'p', 'a', 'button', 'input', 'form', 'img', 'li', 'ul', 'ol', 'h1', 'h2', 'h3', 'section', 'article', 'header', 'footer', 'nav', 'video', 'audio', 'canvas']\n",
        "\n",
        "# Function to extract HTML tag features\n",
        "def extract_html_features(html_content):\n",
        "    soup = BeautifulSoup(html_content, 'html.parser')\n",
        "    tag_counts = {tag: len(soup.find_all(tag)) for tag in tags}\n",
        "    text_length = len(soup.get_text())\n",
        "    html_length = len(html_content)\n",
        "    text_html_ratio = text_length / html_length if html_length else 0\n",
        "    features = list(tag_counts.values()) + [text_html_ratio]\n",
        "    return features"
      ]
    },
    {
      "cell_type": "markdown",
      "metadata": {},
      "source": [
        "### Extract Structural Features from HTML Content\n",
        "\n",
        "We apply the tag-count extraction function across all rows. For missing HTML, we fallback to zeroed features."
      ]
    },
    {
      "cell_type": "code",
      "execution_count": 6,
      "metadata": {},
      "outputs": [
        {
          "name": "stdout",
          "output_type": "stream",
          "text": [
            "Extracting HTML features...\n"
          ]
        },
        {
          "name": "stderr",
          "output_type": "stream",
          "text": [
            "Processing HTML content: 100%|██████████| 956/956 [00:15<00:00, 62.22it/s] \n"
          ]
        }
      ],
      "source": [
        "# Apply feature extraction with a progress bar\n",
        "print(\"Extracting HTML features...\")\n",
        "html_features = [\n",
        "    extract_html_features(x) if pd.notnull(x) else [0] * (len(tags) + 1)\n",
        "    for x in tqdm(html_df['html_content'], desc=\"Processing HTML content\")\n",
        "]\n",
        "\n",
        "# Convert extracted features to a DataFrame\n",
        "html_features_df = pd.DataFrame(html_features, columns=[f'{tag}_count' for tag in tags] + ['text_html_ratio'])\n",
        "processed_df = pd.concat([html_df, html_features_df], axis=1)\n"
      ]
    },
    {
      "cell_type": "markdown",
      "metadata": {},
      "source": [
        "### Extract Text Features with TF-IDF\n",
        "\n",
        "We vectorize textual metadata fields (`title`, `description`, `keywords`, and `cleaned_text`) using TF-IDF to capture informative terms for classification."
      ]
    },
    {
      "cell_type": "code",
      "execution_count": 7,
      "metadata": {},
      "outputs": [
        {
          "name": "stdout",
          "output_type": "stream",
          "text": [
            "Vectorizing text fields with TF-IDF...\n"
          ]
        }
      ],
      "source": [
        "# TF-IDF Vectorization for Text Fields\n",
        "text_fields = ['title', 'description', 'cleaned_text', 'keywords']\n",
        "tfidf_vectorizers = {}\n",
        "text_vectors = []\n",
        "\n",
        "print(\"Vectorizing text fields with TF-IDF...\")\n",
        "for field in text_fields:\n",
        "    vectorizer = TfidfVectorizer(max_features=500)\n",
        "    tfidf_matrix = vectorizer.fit_transform(processed_df[field].fillna(''))\n",
        "    tfidf_vectorizers[field] = vectorizer\n",
        "    text_vectors.append(tfidf_matrix)\n",
        "\n",
        "# Combine TF-IDF vectors horizontally\n",
        "combined_text_vectors = hstack(text_vectors)"
      ]
    },
    {
      "cell_type": "markdown",
      "metadata": {},
      "source": [
        "### Generate Semantic Embeddings with Sentence-BERT\n",
        "\n",
        "We use `all-MiniLM-L6-v2` from `sentence-transformers` to generate sentence-level embeddings for titles and descriptions, capturing semantic similarities across content types."
      ]
    },
    {
      "cell_type": "code",
      "execution_count": 8,
      "metadata": {},
      "outputs": [
        {
          "name": "stdout",
          "output_type": "stream",
          "text": [
            "Generating embeddings with Sentence-BERT...\n"
          ]
        },
        {
          "data": {
            "application/vnd.jupyter.widget-view+json": {
              "model_id": "85da9da366114d819946b3ff813a81a3",
              "version_major": 2,
              "version_minor": 0
            },
            "text/plain": [
              "Batches:   0%|          | 0/30 [00:00<?, ?it/s]"
            ]
          },
          "metadata": {},
          "output_type": "display_data"
        },
        {
          "data": {
            "application/vnd.jupyter.widget-view+json": {
              "model_id": "fd4f852b5ec84496abd981c9c0eb834f",
              "version_major": 2,
              "version_minor": 0
            },
            "text/plain": [
              "Batches:   0%|          | 0/30 [00:00<?, ?it/s]"
            ]
          },
          "metadata": {},
          "output_type": "display_data"
        }
      ],
      "source": [
        "# Domain-specific NLP embeddings with Sentence-BERT for titles and descriptions\n",
        "print(\"Generating embeddings with Sentence-BERT...\")\n",
        "model = SentenceTransformer('all-MiniLM-L6-v2')\n",
        "title_embeddings = model.encode(processed_df['title'].fillna(''), show_progress_bar=True)\n",
        "description_embeddings = model.encode(processed_df['description'].fillna(''), show_progress_bar=True)"
      ]
    },
    {
      "cell_type": "markdown",
      "metadata": {},
      "source": [
        "### Combine All Features\n",
        "\n",
        "We merge all numerical, textual, and semantic features into a single sparse matrix `X` for model training."
      ]
    },
    {
      "cell_type": "code",
      "execution_count": 9,
      "metadata": {},
      "outputs": [],
      "source": [
        "# Stack HTML features, TF-IDF, and embeddings together\n",
        "html_numerical_features = processed_df[[f'{tag}_count' for tag in tags] + ['text_html_ratio']].values\n",
        "X = hstack([combined_text_vectors, html_numerical_features, title_embeddings, description_embeddings])"
      ]
    },
    {
      "cell_type": "markdown",
      "metadata": {},
      "source": [
        "### Encode Labels and Balance Classes\n",
        "\n",
        "Category labels are numerically encoded, and class imbalance is handled using SMOTE (Synthetic Minority Over-sampling Technique)."
      ]
    },
    {
      "cell_type": "code",
      "execution_count": 10,
      "metadata": {},
      "outputs": [
        {
          "name": "stdout",
          "output_type": "stream",
          "text": [
            "Applying SMOTE for balancing classes...\n"
          ]
        }
      ],
      "source": [
        "# Encode target labels\n",
        "y = processed_df['category']\n",
        "label_encoder = LabelEncoder()\n",
        "y_encoded = label_encoder.fit_transform(y)\n",
        "\n",
        "# Use SMOTE for class balancing\n",
        "print(\"Applying SMOTE for balancing classes...\")\n",
        "smote = SMOTE(random_state=42)\n",
        "X_resampled, y_resampled = smote.fit_resample(X, y_encoded)"
      ]
    },
    {
      "cell_type": "markdown",
      "metadata": {},
      "source": [
        "### Split Dataset into Training and Testing\n",
        "\n",
        "We use an 80/20 split to evaluate performance on unseen data."
      ]
    },
    {
      "cell_type": "code",
      "execution_count": 11,
      "metadata": {},
      "outputs": [],
      "source": [
        "# Train-test split\n",
        "X_train, X_test, y_train, y_test = train_test_split(X_resampled, y_resampled, test_size=0.2, random_state=42)"
      ]
    },
    {
      "cell_type": "markdown",
      "metadata": {},
      "source": [
        "### Train Random Forest with Hyperparameter Tuning\n",
        "\n",
        "We use GridSearchCV to tune Random Forest parameters with 5-fold cross-validation, optimizing for classification accuracy."
      ]
    },
    {
      "cell_type": "code",
      "execution_count": 12,
      "metadata": {
        "colab": {
          "base_uri": "https://localhost:8080/",
          "height": 1000,
          "referenced_widgets": [
            "073b3a0a4fdf41be876d02dca90049e3",
            "fe5b42b2520d4b219bfba9205c00b92c",
            "0c51811649c54ec5bf229e60e6f9ee8e",
            "d368ae41c01c459b96df20bfb22dcb75",
            "f2d1ae7a3e2d469d9997257361991e17",
            "9b9e4a5841ef4c6595226a9bd55f89e6",
            "f367bc32f65f498ab1a1dfd589fe02b7",
            "70792f4a3fd3433694319ec201a28a64",
            "e75b137bb0b04d5eb11b241e03e65837",
            "bc32e14766f241889e3fd691096f5e33",
            "d934354bde2840e48209debaee95add5",
            "a556bc8ae6544624bf15273a66702e7d",
            "83aa7c0492ac4ddd87cb378335535f89",
            "e2a5881530c5469ea8d9aa11e8c73a46",
            "092ddcad794e4900be07305b8151ac96",
            "4c536fa021fa498b829f62bf58dc6834",
            "6da758436ee442b487b77b0513cea282",
            "8d525f5568f64f0b909f010b7aacefba",
            "f36385e91e9d4b74a40bb6d263deab5c",
            "6e39a204f82941198f51fc4768ea7a22",
            "c689cfac19e64198942aafbc1dd1647e",
            "bb50858ac6324c219f04d56485fc02fe"
          ]
        },
        "id": "LOd0V3KSImQR",
        "outputId": "96661bd6-a32b-42b1-9159-7bc078dbefdb"
      },
      "outputs": [
        {
          "name": "stdout",
          "output_type": "stream",
          "text": [
            "Hyperparameter tuning with GridSearchCV for Random Forest...\n",
            "Fitting 5 folds for each of 24 candidates, totalling 120 fits\n"
          ]
        },
        {
          "name": "stderr",
          "output_type": "stream",
          "text": [
            "huggingface/tokenizers: The current process just got forked, after parallelism has already been used. Disabling parallelism to avoid deadlocks...\n",
            "To disable this warning, you can either:\n",
            "\t- Avoid using `tokenizers` before the fork if possible\n",
            "\t- Explicitly set the environment variable TOKENIZERS_PARALLELISM=(true | false)\n",
            "huggingface/tokenizers: The current process just got forked, after parallelism has already been used. Disabling parallelism to avoid deadlocks...\n",
            "To disable this warning, you can either:\n",
            "\t- Avoid using `tokenizers` before the fork if possible\n",
            "\t- Explicitly set the environment variable TOKENIZERS_PARALLELISM=(true | false)\n",
            "huggingface/tokenizers: The current process just got forked, after parallelism has already been used. Disabling parallelism to avoid deadlocks...\n",
            "To disable this warning, you can either:\n",
            "\t- Avoid using `tokenizers` before the fork if possible\n",
            "\t- Explicitly set the environment variable TOKENIZERS_PARALLELISM=(true | false)\n",
            "huggingface/tokenizers: The current process just got forked, after parallelism has already been used. Disabling parallelism to avoid deadlocks...\n",
            "To disable this warning, you can either:\n",
            "\t- Avoid using `tokenizers` before the fork if possible\n",
            "\t- Explicitly set the environment variable TOKENIZERS_PARALLELISM=(true | false)\n",
            "huggingface/tokenizers: The current process just got forked, after parallelism has already been used. Disabling parallelism to avoid deadlocks...\n",
            "To disable this warning, you can either:\n",
            "\t- Avoid using `tokenizers` before the fork if possible\n",
            "\t- Explicitly set the environment variable TOKENIZERS_PARALLELISM=(true | false)\n",
            "huggingface/tokenizers: The current process just got forked, after parallelism has already been used. Disabling parallelism to avoid deadlocks...\n",
            "To disable this warning, you can either:\n",
            "\t- Avoid using `tokenizers` before the fork if possible\n",
            "\t- Explicitly set the environment variable TOKENIZERS_PARALLELISM=(true | false)\n",
            "huggingface/tokenizers: The current process just got forked, after parallelism has already been used. Disabling parallelism to avoid deadlocks...\n",
            "To disable this warning, you can either:\n",
            "\t- Avoid using `tokenizers` before the fork if possible\n",
            "\t- Explicitly set the environment variable TOKENIZERS_PARALLELISM=(true | false)\n",
            "huggingface/tokenizers: The current process just got forked, after parallelism has already been used. Disabling parallelism to avoid deadlocks...\n",
            "To disable this warning, you can either:\n",
            "\t- Avoid using `tokenizers` before the fork if possible\n",
            "\t- Explicitly set the environment variable TOKENIZERS_PARALLELISM=(true | false)\n",
            "huggingface/tokenizers: The current process just got forked, after parallelism has already been used. Disabling parallelism to avoid deadlocks...\n",
            "To disable this warning, you can either:\n",
            "\t- Avoid using `tokenizers` before the fork if possible\n",
            "\t- Explicitly set the environment variable TOKENIZERS_PARALLELISM=(true | false)\n"
          ]
        },
        {
          "name": "stdout",
          "output_type": "stream",
          "text": [
            "[CV] END max_depth=20, min_samples_leaf=1, min_samples_split=2, n_estimators=200; total time=   2.7s\n",
            "[CV] END max_depth=20, min_samples_leaf=1, min_samples_split=2, n_estimators=200; total time=   2.9s\n",
            "[CV] END max_depth=20, min_samples_leaf=1, min_samples_split=2, n_estimators=200; total time=   3.0s\n",
            "[CV] END max_depth=20, min_samples_leaf=1, min_samples_split=2, n_estimators=200; total time=   3.1s\n",
            "[CV] END max_depth=20, min_samples_leaf=1, min_samples_split=2, n_estimators=200; total time=   3.1s\n",
            "[CV] END max_depth=20, min_samples_leaf=1, min_samples_split=2, n_estimators=300; total time=   4.5s\n",
            "[CV] END max_depth=20, min_samples_leaf=1, min_samples_split=2, n_estimators=300; total time=   4.6s\n",
            "[CV] END max_depth=20, min_samples_leaf=1, min_samples_split=2, n_estimators=300; total time=   4.8s\n",
            "[CV] END max_depth=20, min_samples_leaf=1, min_samples_split=5, n_estimators=200; total time=   2.8s\n",
            "[CV] END max_depth=20, min_samples_leaf=1, min_samples_split=5, n_estimators=200; total time=   2.8s\n",
            "[CV] END max_depth=20, min_samples_leaf=1, min_samples_split=5, n_estimators=200; total time=   2.9s\n",
            "[CV] END max_depth=20, min_samples_leaf=1, min_samples_split=5, n_estimators=200; total time=   2.7s\n",
            "[CV] END max_depth=20, min_samples_leaf=1, min_samples_split=2, n_estimators=300; total time=   4.4s\n",
            "[CV] END max_depth=20, min_samples_leaf=1, min_samples_split=5, n_estimators=200; total time=   2.7s\n",
            "[CV] END max_depth=20, min_samples_leaf=1, min_samples_split=2, n_estimators=300; total time=   4.7s\n",
            "[CV] END max_depth=20, min_samples_leaf=1, min_samples_split=5, n_estimators=300; total time=   4.3s\n",
            "[CV] END max_depth=20, min_samples_leaf=1, min_samples_split=5, n_estimators=300; total time=   4.2s\n",
            "[CV] END max_depth=20, min_samples_leaf=1, min_samples_split=5, n_estimators=300; total time=   4.3s\n",
            "[CV] END max_depth=20, min_samples_leaf=2, min_samples_split=2, n_estimators=200; total time=   2.9s\n",
            "[CV] END max_depth=20, min_samples_leaf=2, min_samples_split=2, n_estimators=200; total time=   2.9s\n",
            "[CV] END max_depth=20, min_samples_leaf=1, min_samples_split=5, n_estimators=300; total time=   4.5s\n",
            "[CV] END max_depth=20, min_samples_leaf=2, min_samples_split=2, n_estimators=200; total time=   3.0s\n",
            "[CV] END max_depth=20, min_samples_leaf=1, min_samples_split=5, n_estimators=300; total time=   4.2s\n",
            "[CV] END max_depth=20, min_samples_leaf=2, min_samples_split=2, n_estimators=200; total time=   2.7s\n",
            "[CV] END max_depth=20, min_samples_leaf=2, min_samples_split=2, n_estimators=200; total time=   2.7s\n",
            "[CV] END max_depth=20, min_samples_leaf=2, min_samples_split=5, n_estimators=200; total time=   2.7s\n",
            "[CV] END max_depth=20, min_samples_leaf=2, min_samples_split=2, n_estimators=300; total time=   4.0s\n",
            "[CV] END max_depth=20, min_samples_leaf=2, min_samples_split=2, n_estimators=300; total time=   4.0s\n",
            "[CV] END max_depth=20, min_samples_leaf=2, min_samples_split=5, n_estimators=200; total time=   2.7s\n",
            "[CV] END max_depth=20, min_samples_leaf=2, min_samples_split=2, n_estimators=300; total time=   4.3s\n",
            "[CV] END max_depth=20, min_samples_leaf=2, min_samples_split=2, n_estimators=300; total time=   4.2s\n",
            "[CV] END max_depth=20, min_samples_leaf=2, min_samples_split=2, n_estimators=300; total time=   4.1s\n",
            "[CV] END max_depth=20, min_samples_leaf=2, min_samples_split=5, n_estimators=200; total time=   2.6s\n",
            "[CV] END max_depth=20, min_samples_leaf=2, min_samples_split=5, n_estimators=200; total time=   2.9s\n",
            "[CV] END max_depth=20, min_samples_leaf=2, min_samples_split=5, n_estimators=200; total time=   3.0s\n",
            "[CV] END max_depth=20, min_samples_leaf=2, min_samples_split=5, n_estimators=300; total time=   4.7s\n",
            "[CV] END max_depth=20, min_samples_leaf=2, min_samples_split=5, n_estimators=300; total time=   4.9s\n",
            "[CV] END max_depth=20, min_samples_leaf=2, min_samples_split=5, n_estimators=300; total time=   5.1s\n",
            "[CV] END max_depth=20, min_samples_leaf=2, min_samples_split=5, n_estimators=300; total time=   5.1s\n",
            "[CV] END max_depth=20, min_samples_leaf=2, min_samples_split=5, n_estimators=300; total time=   5.0s\n",
            "[CV] END max_depth=30, min_samples_leaf=1, min_samples_split=2, n_estimators=200; total time=   4.2s\n",
            "[CV] END max_depth=30, min_samples_leaf=1, min_samples_split=2, n_estimators=200; total time=   4.0s\n",
            "[CV] END max_depth=30, min_samples_leaf=1, min_samples_split=2, n_estimators=200; total time=   3.8s\n",
            "[CV] END max_depth=30, min_samples_leaf=1, min_samples_split=2, n_estimators=200; total time=   3.2s\n",
            "[CV] END max_depth=30, min_samples_leaf=1, min_samples_split=2, n_estimators=200; total time=   3.3s\n",
            "[CV] END max_depth=30, min_samples_leaf=1, min_samples_split=5, n_estimators=200; total time=   3.0s\n",
            "[CV] END max_depth=30, min_samples_leaf=1, min_samples_split=2, n_estimators=300; total time=   4.6s\n",
            "[CV] END max_depth=30, min_samples_leaf=1, min_samples_split=2, n_estimators=300; total time=   4.8s\n",
            "[CV] END max_depth=30, min_samples_leaf=1, min_samples_split=2, n_estimators=300; total time=   4.8s\n",
            "[CV] END max_depth=30, min_samples_leaf=1, min_samples_split=2, n_estimators=300; total time=   5.0s\n",
            "[CV] END max_depth=30, min_samples_leaf=1, min_samples_split=5, n_estimators=200; total time=   2.9s\n",
            "[CV] END max_depth=30, min_samples_leaf=1, min_samples_split=5, n_estimators=200; total time=   3.0s\n",
            "[CV] END max_depth=30, min_samples_leaf=1, min_samples_split=2, n_estimators=300; total time=   4.6s\n",
            "[CV] END max_depth=30, min_samples_leaf=1, min_samples_split=5, n_estimators=200; total time=   2.9s\n",
            "[CV] END max_depth=30, min_samples_leaf=1, min_samples_split=5, n_estimators=200; total time=   3.0s\n",
            "[CV] END max_depth=30, min_samples_leaf=2, min_samples_split=2, n_estimators=200; total time=   3.0s\n",
            "[CV] END max_depth=30, min_samples_leaf=1, min_samples_split=5, n_estimators=300; total time=   4.6s\n",
            "[CV] END max_depth=30, min_samples_leaf=1, min_samples_split=5, n_estimators=300; total time=   4.6s\n",
            "[CV] END max_depth=30, min_samples_leaf=1, min_samples_split=5, n_estimators=300; total time=   4.5s\n",
            "[CV] END max_depth=30, min_samples_leaf=1, min_samples_split=5, n_estimators=300; total time=   4.5s\n",
            "[CV] END max_depth=30, min_samples_leaf=1, min_samples_split=5, n_estimators=300; total time=   4.5s\n",
            "[CV] END max_depth=30, min_samples_leaf=2, min_samples_split=2, n_estimators=200; total time=   3.0s\n",
            "[CV] END max_depth=30, min_samples_leaf=2, min_samples_split=2, n_estimators=200; total time=   2.9s\n",
            "[CV] END max_depth=30, min_samples_leaf=2, min_samples_split=2, n_estimators=200; total time=   2.9s\n",
            "[CV] END max_depth=30, min_samples_leaf=2, min_samples_split=2, n_estimators=200; total time=   3.4s\n",
            "[CV] END max_depth=30, min_samples_leaf=2, min_samples_split=5, n_estimators=200; total time=   3.2s\n",
            "[CV] END max_depth=30, min_samples_leaf=2, min_samples_split=2, n_estimators=300; total time=   4.8s\n",
            "[CV] END max_depth=30, min_samples_leaf=2, min_samples_split=2, n_estimators=300; total time=   4.9s\n",
            "[CV] END max_depth=30, min_samples_leaf=2, min_samples_split=2, n_estimators=300; total time=   4.5s\n",
            "[CV] END max_depth=30, min_samples_leaf=2, min_samples_split=2, n_estimators=300; total time=   4.8s\n",
            "[CV] END max_depth=30, min_samples_leaf=2, min_samples_split=2, n_estimators=300; total time=   4.7s\n",
            "[CV] END max_depth=30, min_samples_leaf=2, min_samples_split=5, n_estimators=200; total time=   3.3s\n",
            "[CV] END max_depth=30, min_samples_leaf=2, min_samples_split=5, n_estimators=200; total time=   3.1s\n",
            "[CV] END max_depth=30, min_samples_leaf=2, min_samples_split=5, n_estimators=200; total time=   2.8s\n",
            "[CV] END max_depth=30, min_samples_leaf=2, min_samples_split=5, n_estimators=200; total time=   2.8s\n",
            "[CV] END max_depth=30, min_samples_leaf=2, min_samples_split=5, n_estimators=300; total time=   4.3s\n",
            "[CV] END max_depth=30, min_samples_leaf=2, min_samples_split=5, n_estimators=300; total time=   4.4s\n",
            "[CV] END max_depth=30, min_samples_leaf=2, min_samples_split=5, n_estimators=300; total time=   4.4s\n",
            "[CV] END max_depth=30, min_samples_leaf=2, min_samples_split=5, n_estimators=300; total time=   4.3s\n",
            "[CV] END max_depth=None, min_samples_leaf=1, min_samples_split=2, n_estimators=200; total time=   3.6s\n",
            "[CV] END max_depth=30, min_samples_leaf=2, min_samples_split=5, n_estimators=300; total time=   4.5s\n",
            "[CV] END max_depth=None, min_samples_leaf=1, min_samples_split=2, n_estimators=200; total time=   3.4s\n",
            "[CV] END max_depth=None, min_samples_leaf=1, min_samples_split=2, n_estimators=200; total time=   3.5s\n",
            "[CV] END max_depth=None, min_samples_leaf=1, min_samples_split=2, n_estimators=200; total time=   3.8s\n",
            "[CV] END max_depth=None, min_samples_leaf=1, min_samples_split=2, n_estimators=200; total time=   3.5s\n",
            "[CV] END max_depth=None, min_samples_leaf=1, min_samples_split=5, n_estimators=200; total time=   3.5s\n",
            "[CV] END max_depth=None, min_samples_leaf=1, min_samples_split=2, n_estimators=300; total time=   5.6s\n",
            "[CV] END max_depth=None, min_samples_leaf=1, min_samples_split=2, n_estimators=300; total time=   5.8s\n",
            "[CV] END max_depth=None, min_samples_leaf=1, min_samples_split=2, n_estimators=300; total time=   5.8s\n",
            "[CV] END max_depth=None, min_samples_leaf=1, min_samples_split=2, n_estimators=300; total time=   6.0s\n",
            "[CV] END max_depth=None, min_samples_leaf=1, min_samples_split=2, n_estimators=300; total time=   5.7s\n",
            "[CV] END max_depth=None, min_samples_leaf=1, min_samples_split=5, n_estimators=200; total time=   3.5s\n",
            "[CV] END max_depth=None, min_samples_leaf=1, min_samples_split=5, n_estimators=200; total time=   3.5s\n",
            "[CV] END max_depth=None, min_samples_leaf=1, min_samples_split=5, n_estimators=200; total time=   3.1s\n",
            "[CV] END max_depth=None, min_samples_leaf=1, min_samples_split=5, n_estimators=200; total time=   3.0s\n",
            "[CV] END max_depth=None, min_samples_leaf=2, min_samples_split=2, n_estimators=200; total time=   2.7s\n",
            "[CV] END max_depth=None, min_samples_leaf=1, min_samples_split=5, n_estimators=300; total time=   4.6s\n",
            "[CV] END max_depth=None, min_samples_leaf=1, min_samples_split=5, n_estimators=300; total time=   4.7s\n",
            "[CV] END max_depth=None, min_samples_leaf=1, min_samples_split=5, n_estimators=300; total time=   4.8s\n",
            "[CV] END max_depth=None, min_samples_leaf=2, min_samples_split=2, n_estimators=200; total time=   2.8s\n",
            "[CV] END max_depth=None, min_samples_leaf=1, min_samples_split=5, n_estimators=300; total time=   4.6s\n",
            "[CV] END max_depth=None, min_samples_leaf=1, min_samples_split=5, n_estimators=300; total time=   4.5s\n",
            "[CV] END max_depth=None, min_samples_leaf=2, min_samples_split=2, n_estimators=200; total time=   2.8s\n",
            "[CV] END max_depth=None, min_samples_leaf=2, min_samples_split=2, n_estimators=200; total time=   2.7s\n",
            "[CV] END max_depth=None, min_samples_leaf=2, min_samples_split=2, n_estimators=200; total time=   3.0s\n",
            "[CV] END max_depth=None, min_samples_leaf=2, min_samples_split=5, n_estimators=200; total time=   2.9s\n",
            "[CV] END max_depth=None, min_samples_leaf=2, min_samples_split=2, n_estimators=300; total time=   4.4s\n",
            "[CV] END max_depth=None, min_samples_leaf=2, min_samples_split=2, n_estimators=300; total time=   4.4s\n",
            "[CV] END max_depth=None, min_samples_leaf=2, min_samples_split=2, n_estimators=300; total time=   4.6s\n",
            "[CV] END max_depth=None, min_samples_leaf=2, min_samples_split=2, n_estimators=300; total time=   4.3s\n",
            "[CV] END max_depth=None, min_samples_leaf=2, min_samples_split=5, n_estimators=200; total time=   3.1s\n",
            "[CV] END max_depth=None, min_samples_leaf=2, min_samples_split=2, n_estimators=300; total time=   4.4s\n",
            "[CV] END max_depth=None, min_samples_leaf=2, min_samples_split=5, n_estimators=200; total time=   2.9s\n",
            "[CV] END max_depth=None, min_samples_leaf=2, min_samples_split=5, n_estimators=200; total time=   2.7s\n",
            "[CV] END max_depth=None, min_samples_leaf=2, min_samples_split=5, n_estimators=200; total time=   2.7s\n",
            "[CV] END max_depth=None, min_samples_leaf=2, min_samples_split=5, n_estimators=300; total time=   4.3s\n",
            "[CV] END max_depth=None, min_samples_leaf=2, min_samples_split=5, n_estimators=300; total time=   4.2s\n",
            "[CV] END max_depth=None, min_samples_leaf=2, min_samples_split=5, n_estimators=300; total time=   4.1s\n",
            "[CV] END max_depth=None, min_samples_leaf=2, min_samples_split=5, n_estimators=300; total time=   4.2s\n",
            "[CV] END max_depth=None, min_samples_leaf=2, min_samples_split=5, n_estimators=300; total time=   4.1s\n"
          ]
        }
      ],
      "source": [
        "# Initialize RandomForest model and perform grid search\n",
        "print(\"Hyperparameter tuning with GridSearchCV for Random Forest...\")\n",
        "param_grid = {\n",
        "    'n_estimators': [200, 300],\n",
        "    'max_depth': [20, 30, None],\n",
        "    'min_samples_split': [2, 5],\n",
        "    'min_samples_leaf': [1, 2]\n",
        "}\n",
        "rf_model = RandomForestClassifier(random_state=42)\n",
        "grid_search = GridSearchCV(rf_model, param_grid, cv=5, scoring='accuracy', n_jobs=-1, verbose=2)\n",
        "grid_search.fit(X_train, y_train)\n",
        "\n",
        "# Use the best model found\n",
        "best_rf_model = grid_search.best_estimator_"
      ]
    },
    {
      "cell_type": "markdown",
      "metadata": {},
      "source": [
        "### Evaluate Best Model via Cross-Validation\n",
        "\n",
        "We assess the best Random Forest model using 5-fold cross-validation across multiple metrics (accuracy, precision, recall, F1)."
      ]
    },
    {
      "cell_type": "code",
      "execution_count": 13,
      "metadata": {},
      "outputs": [
        {
          "name": "stdout",
          "output_type": "stream",
          "text": [
            "\n",
            "Cross-validation for the best Random Forest model...\n",
            "\n",
            "Cross-Validation Results:\n",
            "Accuracy:\n",
            " - Mean: 0.8134\n",
            " - Std Dev: 0.0268\n",
            "Precision_weighted:\n",
            " - Mean: 0.8287\n",
            " - Std Dev: 0.0230\n",
            "Recall_weighted:\n",
            " - Mean: 0.8134\n",
            " - Std Dev: 0.0268\n",
            "F1_weighted:\n",
            " - Mean: 0.8137\n",
            " - Std Dev: 0.0269\n"
          ]
        }
      ],
      "source": [
        "# Cross-validation for the best model\n",
        "print(\"\\nCross-validation for the best Random Forest model...\")\n",
        "scoring = ['accuracy', 'precision_weighted', 'recall_weighted', 'f1_weighted']\n",
        "cv_results = cross_validate(best_rf_model, X_train, y_train, cv=5, scoring=scoring, return_train_score=True)\n",
        "\n",
        "# Display cross-validation results\n",
        "print(\"\\nCross-Validation Results:\")\n",
        "for metric in scoring:\n",
        "    print(f\"{metric.capitalize()}:\")\n",
        "    print(f\" - Mean: {np.mean(cv_results['test_' + metric]):.4f}\")\n",
        "    print(f\" - Std Dev: {np.std(cv_results['test_' + metric]):.4f}\")\n"
      ]
    },
    {
      "cell_type": "markdown",
      "metadata": {},
      "source": [
        "The model performs consistently well across metrics with ~81–83% on average. Low variance across folds indicates robustness across different data splits."
      ]
    },
    {
      "cell_type": "code",
      "execution_count": 14,
      "metadata": {},
      "outputs": [
        {
          "data": {
            "image/png": "[encoded data removed]",
            "text/plain": [
              "<Figure size 1000x500 with 1 Axes>"
            ]
          },
          "metadata": {},
          "output_type": "display_data"
        }
      ],
      "source": [
        "# Visualization of cross-validation results\n",
        "plt.figure(figsize=(10, 5))\n",
        "plt.bar(scoring, [np.mean(cv_results['test_' + metric]) for metric in scoring],\n",
        "        yerr=[np.std(cv_results['test_' + metric]) for metric in scoring], capsize=5)\n",
        "plt.title(\"Cross-Validation Performance by Metric\")\n",
        "plt.ylabel(\"Score\")\n",
        "plt.show()\n"
      ]
    },
    {
      "cell_type": "markdown",
      "metadata": {},
      "source": [
        "### Evaluate on Test Set\n",
        "\n",
        "We retrain the model on the full training set and evaluate it on the test set. Accuracy and a full classification report are printed."
      ]
    },
    {
      "cell_type": "code",
      "execution_count": 15,
      "metadata": {},
      "outputs": [
        {
          "name": "stdout",
          "output_type": "stream",
          "text": [
            "\n",
            "Training the final model on the full training set...\n",
            "\n",
            "Test Set Accuracy: 0.8419\n",
            "\n",
            "Classification Report:\n",
            "                                 precision    recall  f1-score   support\n",
            "\n",
            "                          Adult       1.00      1.00      1.00        12\n",
            "             Business/Corporate       0.57      0.63      0.60        19\n",
            "       Computers and Technology       0.76      0.81      0.79        16\n",
            "                     E-Commerce       0.79      0.65      0.71        17\n",
            "                      Education       0.52      0.75      0.62        16\n",
            "                           Food       0.90      0.82      0.86        22\n",
            "                         Forums       1.00      1.00      1.00        17\n",
            "                          Games       0.93      0.82      0.88        17\n",
            "             Health and Fitness       0.83      0.83      0.83        12\n",
            "             Law and Government       0.95      0.95      0.95        20\n",
            "                           News       0.94      0.89      0.92        19\n",
            "                    Photography       1.00      0.93      0.96        14\n",
            "Social Networking and Messaging       0.86      0.83      0.84        23\n",
            "                         Sports       0.83      0.83      0.83        18\n",
            "             Streaming Services       0.82      0.82      0.82        11\n",
            "                         Travel       0.95      0.95      0.95        19\n",
            "\n",
            "                       accuracy                           0.84       272\n",
            "                      macro avg       0.85      0.84      0.85       272\n",
            "                   weighted avg       0.85      0.84      0.85       272\n",
            "\n"
          ]
        }
      ],
      "source": [
        "# Train and evaluate on the test set\n",
        "print(\"\\nTraining the final model on the full training set...\")\n",
        "best_rf_model.fit(X_train, y_train)\n",
        "y_pred = best_rf_model.predict(X_test)\n",
        "\n",
        "# Test accuracy and detailed classification report\n",
        "test_accuracy = accuracy_score(y_test, y_pred)\n",
        "print(f\"\\nTest Set Accuracy: {test_accuracy:.4f}\")\n",
        "print(\"\\nClassification Report:\")\n",
        "print(classification_report(y_test, y_pred, target_names=label_encoder.classes_))\n"
      ]
    },
    {
      "cell_type": "markdown",
      "metadata": {},
      "source": [
        "The model achieves 84.2% accuracy on the test set. Most categories are well-separated, though minor confusion appears between related classes (e.g., Business vs. E-Commerce, Education vs. Blog)."
      ]
    },
    {
      "cell_type": "code",
      "execution_count": 16,
      "metadata": {},
      "outputs": [
        {
          "data": {
            "image/png": "[encoded data removed]",
            "text/plain": [
              "<Figure size 640x480 with 2 Axes>"
            ]
          },
          "metadata": {},
          "output_type": "display_data"
        }
      ],
      "source": [
        "# Visualize Confusion Matrix\n",
        "\n",
        "def truncate_labels(labels, max_len=12):\n",
        "    return [label if len(label) <= max_len else label[:max_len-3] + \"...\" for label in labels]\n",
        "\n",
        "full_labels = label_encoder.classes_\n",
        "truncated_x_labels = truncate_labels(full_labels, max_len=12)\n",
        "\n",
        "disp = ConfusionMatrixDisplay.from_estimator(\n",
        "    best_rf_model,\n",
        "    X_test,\n",
        "    y_test,\n",
        "    display_labels=full_labels,  \n",
        "    cmap=\"Blues\"\n",
        ")\n",
        "\n",
        "ax = disp.ax_\n",
        "ax.set_xticks(range(len(truncated_x_labels)))\n",
        "ax.set_xticklabels(truncated_x_labels, rotation=45, ha='right', fontsize=8)\n",
        "ax.set_yticklabels(full_labels, fontsize=8)\n",
        "\n",
        "plt.title(\"Confusion Matrix of Test Set Predictions - Optimized Random Forest with SMOTE\")\n",
        "plt.tight_layout()\n",
        "plt.show()"
      ]
    },
    {
      "cell_type": "markdown",
      "metadata": {},
      "source": [
        "### Save Model and Artifacts\n",
        "\n",
        "We serialize the trained Random Forest model, label encoder, TF-IDF vectorizers, and Sentence-BERT model name to disk for later use in the Weeg content pipeline."
      ]
    },
    {
      "cell_type": "code",
      "execution_count": 17,
      "metadata": {
        "colab": {
          "base_uri": "https://localhost:8080/"
        },
        "id": "JkuA9ttUMsbq",
        "outputId": "544bf08c-7cbb-42e3-afe9-e803c20bf960"
      },
      "outputs": [
        {
          "name": "stdout",
          "output_type": "stream",
          "text": [
            "Model and artifacts saved successfully. For Sentence-BERT, use model name 'all-MiniLM-L6-v2' to load it.\n"
          ]
        }
      ],
      "source": [
        "os.makedirs('models', exist_ok=True)\n",
        "\n",
        "# Paths to save model and artifacts\n",
        "model_path = 'models/random_forest_model.pkl'\n",
        "label_encoder_path = 'models/label_encoder.pkl'\n",
        "tfidf_vectorizers_path = 'models/tfidf_vectorizers.pkl'\n",
        "sentence_bert_model_path = 'models/sentence_bert_model.pkl'\n",
        "\n",
        "# Save RandomForest model\n",
        "with open(model_path, 'wb') as model_file:\n",
        "    pickle.dump(best_rf_model, model_file)\n",
        "\n",
        "# Save Label Encoder\n",
        "with open(label_encoder_path, 'wb') as le_file:\n",
        "    pickle.dump(label_encoder, le_file)\n",
        "\n",
        "# Save TF-IDF vectorizers\n",
        "with open(tfidf_vectorizers_path, 'wb') as tfidf_file:\n",
        "    pickle.dump(tfidf_vectorizers, tfidf_file)\n",
        "\n",
        "# Save Sentence-BERT model (though typically, it's reloaded directly by its name)\n",
        "sentence_bert_model_name = 'all-MiniLM-L6-v2'\n",
        "print(f\"Model and artifacts saved successfully. For Sentence-BERT, use model name '{sentence_bert_model_name}' to load it.\")\n"
      ]
    }
  ],
  "metadata": {
    "colab": {
      "provenance": []
    },
    "kernelspec": {
      "display_name": "weeg-env",
      "language": "python",
      "name": "python3"
    },
    "language_info": {
      "codemirror_mode": {
        "name": "ipython",
        "version": 3
      },
      "file_extension": ".py",
      "mimetype": "text/x-python",
      "name": "python",
      "nbconvert_exporter": "python",
      "pygments_lexer": "ipython3",
      "version": "3.13.2"
    },
    "widgets": {
      "application/vnd.jupyter.widget-state+json": {
        "073b3a0a4fdf41be876d02dca90049e3": {
          "model_module": "@jupyter-widgets/controls",
          "model_module_version": "1.5.0",
          "model_name": "HBoxModel",
          "state": {
            "_dom_classes": [],
            "_model_module": "@jupyter-widgets/controls",
            "_model_module_version": "1.5.0",
            "_model_name": "HBoxModel",
            "_view_count": null,
            "_view_module": "@jupyter-widgets/controls",
            "_view_module_version": "1.5.0",
            "_view_name": "HBoxView",
            "box_style": "",
            "children": [
              "IPY_MODEL_fe5b42b2520d4b219bfba9205c00b92c",
              "IPY_MODEL_0c51811649c54ec5bf229e60e6f9ee8e",
              "IPY_MODEL_d368ae41c01c459b96df20bfb22dcb75"
            ],
            "layout": "IPY_MODEL_f2d1ae7a3e2d469d9997257361991e17"
          }
        },
        "092ddcad794e4900be07305b8151ac96": {
          "model_module": "@jupyter-widgets/controls",
          "model_module_version": "1.5.0",
          "model_name": "HTMLModel",
          "state": {
            "_dom_classes": [],
            "_model_module": "@jupyter-widgets/controls",
            "_model_module_version": "1.5.0",
            "_model_name": "HTMLModel",
            "_view_count": null,
            "_view_module": "@jupyter-widgets/controls",
            "_view_module_version": "1.5.0",
            "_view_name": "HTMLView",
            "description": "",
            "description_tooltip": null,
            "layout": "IPY_MODEL_c689cfac19e64198942aafbc1dd1647e",
            "placeholder": "​",
            "style": "IPY_MODEL_bb50858ac6324c219f04d56485fc02fe",
            "value": " 31/31 [00:23&lt;00:00, 10.79it/s]"
          }
        },
        "0c51811649c54ec5bf229e60e6f9ee8e": {
          "model_module": "@jupyter-widgets/controls",
          "model_module_version": "1.5.0",
          "model_name": "FloatProgressModel",
          "state": {
            "_dom_classes": [],
            "_model_module": "@jupyter-widgets/controls",
            "_model_module_version": "1.5.0",
            "_model_name": "FloatProgressModel",
            "_view_count": null,
            "_view_module": "@jupyter-widgets/controls",
            "_view_module_version": "1.5.0",
            "_view_name": "ProgressView",
            "bar_style": "success",
            "description": "",
            "description_tooltip": null,
            "layout": "IPY_MODEL_70792f4a3fd3433694319ec201a28a64",
            "max": 31,
            "min": 0,
            "orientation": "horizontal",
            "style": "IPY_MODEL_e75b137bb0b04d5eb11b241e03e65837",
            "value": 31
          }
        },
        "4c536fa021fa498b829f62bf58dc6834": {
          "model_module": "@jupyter-widgets/base",
          "model_module_version": "1.2.0",
          "model_name": "LayoutModel",
          "state": {
            "_model_module": "@jupyter-widgets/base",
            "_model_module_version": "1.2.0",
            "_model_name": "LayoutModel",
            "_view_count": null,
            "_view_module": "@jupyter-widgets/base",
            "_view_module_version": "1.2.0",
            "_view_name": "LayoutView",
            "align_content": null,
            "align_items": null,
            "align_self": null,
            "border": null,
            "bottom": null,
            "display": null,
            "flex": null,
            "flex_flow": null,
            "grid_area": null,
            "grid_auto_columns": null,
            "grid_auto_flow": null,
            "grid_auto_rows": null,
            "grid_column": null,
            "grid_gap": null,
            "grid_row": null,
            "grid_template_areas": null,
            "grid_template_columns": null,
            "grid_template_rows": null,
            "height": null,
            "justify_content": null,
            "justify_items": null,
            "left": null,
            "margin": null,
            "max_height": null,
            "max_width": null,
            "min_height": null,
            "min_width": null,
            "object_fit": null,
            "object_position": null,
            "order": null,
            "overflow": null,
            "overflow_x": null,
            "overflow_y": null,
            "padding": null,
            "right": null,
            "top": null,
            "visibility": null,
            "width": null
          }
        },
        "6da758436ee442b487b77b0513cea282": {
          "model_module": "@jupyter-widgets/base",
          "model_module_version": "1.2.0",
          "model_name": "LayoutModel",
          "state": {
            "_model_module": "@jupyter-widgets/base",
            "_model_module_version": "1.2.0",
            "_model_name": "LayoutModel",
            "_view_count": null,
            "_view_module": "@jupyter-widgets/base",
            "_view_module_version": "1.2.0",
            "_view_name": "LayoutView",
            "align_content": null,
            "align_items": null,
            "align_self": null,
            "border": null,
            "bottom": null,
            "display": null,
            "flex": null,
            "flex_flow": null,
            "grid_area": null,
            "grid_auto_columns": null,
            "grid_auto_flow": null,
            "grid_auto_rows": null,
            "grid_column": null,
            "grid_gap": null,
            "grid_row": null,
            "grid_template_areas": null,
            "grid_template_columns": null,
            "grid_template_rows": null,
            "height": null,
            "justify_content": null,
            "justify_items": null,
            "left": null,
            "margin": null,
            "max_height": null,
            "max_width": null,
            "min_height": null,
            "min_width": null,
            "object_fit": null,
            "object_position": null,
            "order": null,
            "overflow": null,
            "overflow_x": null,
            "overflow_y": null,
            "padding": null,
            "right": null,
            "top": null,
            "visibility": null,
            "width": null
          }
        },
        "6e39a204f82941198f51fc4768ea7a22": {
          "model_module": "@jupyter-widgets/controls",
          "model_module_version": "1.5.0",
          "model_name": "ProgressStyleModel",
          "state": {
            "_model_module": "@jupyter-widgets/controls",
            "_model_module_version": "1.5.0",
            "_model_name": "ProgressStyleModel",
            "_view_count": null,
            "_view_module": "@jupyter-widgets/base",
            "_view_module_version": "1.2.0",
            "_view_name": "StyleView",
            "bar_color": null,
            "description_width": ""
          }
        },
        "70792f4a3fd3433694319ec201a28a64": {
          "model_module": "@jupyter-widgets/base",
          "model_module_version": "1.2.0",
          "model_name": "LayoutModel",
          "state": {
            "_model_module": "@jupyter-widgets/base",
            "_model_module_version": "1.2.0",
            "_model_name": "LayoutModel",
            "_view_count": null,
            "_view_module": "@jupyter-widgets/base",
            "_view_module_version": "1.2.0",
            "_view_name": "LayoutView",
            "align_content": null,
            "align_items": null,
            "align_self": null,
            "border": null,
            "bottom": null,
            "display": null,
            "flex": null,
            "flex_flow": null,
            "grid_area": null,
            "grid_auto_columns": null,
            "grid_auto_flow": null,
            "grid_auto_rows": null,
            "grid_column": null,
            "grid_gap": null,
            "grid_row": null,
            "grid_template_areas": null,
            "grid_template_columns": null,
            "grid_template_rows": null,
            "height": null,
            "justify_content": null,
            "justify_items": null,
            "left": null,
            "margin": null,
            "max_height": null,
            "max_width": null,
            "min_height": null,
            "min_width": null,
            "object_fit": null,
            "object_position": null,
            "order": null,
            "overflow": null,
            "overflow_x": null,
            "overflow_y": null,
            "padding": null,
            "right": null,
            "top": null,
            "visibility": null,
            "width": null
          }
        },
        "83aa7c0492ac4ddd87cb378335535f89": {
          "model_module": "@jupyter-widgets/controls",
          "model_module_version": "1.5.0",
          "model_name": "HTMLModel",
          "state": {
            "_dom_classes": [],
            "_model_module": "@jupyter-widgets/controls",
            "_model_module_version": "1.5.0",
            "_model_name": "HTMLModel",
            "_view_count": null,
            "_view_module": "@jupyter-widgets/controls",
            "_view_module_version": "1.5.0",
            "_view_name": "HTMLView",
            "description": "",
            "description_tooltip": null,
            "layout": "IPY_MODEL_6da758436ee442b487b77b0513cea282",
            "placeholder": "​",
            "style": "IPY_MODEL_8d525f5568f64f0b909f010b7aacefba",
            "value": "Batches: 100%"
          }
        },
        "8d525f5568f64f0b909f010b7aacefba": {
          "model_module": "@jupyter-widgets/controls",
          "model_module_version": "1.5.0",
          "model_name": "DescriptionStyleModel",
          "state": {
            "_model_module": "@jupyter-widgets/controls",
            "_model_module_version": "1.5.0",
            "_model_name": "DescriptionStyleModel",
            "_view_count": null,
            "_view_module": "@jupyter-widgets/base",
            "_view_module_version": "1.2.0",
            "_view_name": "StyleView",
            "description_width": ""
          }
        },
        "9b9e4a5841ef4c6595226a9bd55f89e6": {
          "model_module": "@jupyter-widgets/base",
          "model_module_version": "1.2.0",
          "model_name": "LayoutModel",
          "state": {
            "_model_module": "@jupyter-widgets/base",
            "_model_module_version": "1.2.0",
            "_model_name": "LayoutModel",
            "_view_count": null,
            "_view_module": "@jupyter-widgets/base",
            "_view_module_version": "1.2.0",
            "_view_name": "LayoutView",
            "align_content": null,
            "align_items": null,
            "align_self": null,
            "border": null,
            "bottom": null,
            "display": null,
            "flex": null,
            "flex_flow": null,
            "grid_area": null,
            "grid_auto_columns": null,
            "grid_auto_flow": null,
            "grid_auto_rows": null,
            "grid_column": null,
            "grid_gap": null,
            "grid_row": null,
            "grid_template_areas": null,
            "grid_template_columns": null,
            "grid_template_rows": null,
            "height": null,
            "justify_content": null,
            "justify_items": null,
            "left": null,
            "margin": null,
            "max_height": null,
            "max_width": null,
            "min_height": null,
            "min_width": null,
            "object_fit": null,
            "object_position": null,
            "order": null,
            "overflow": null,
            "overflow_x": null,
            "overflow_y": null,
            "padding": null,
            "right": null,
            "top": null,
            "visibility": null,
            "width": null
          }
        },
        "a556bc8ae6544624bf15273a66702e7d": {
          "model_module": "@jupyter-widgets/controls",
          "model_module_version": "1.5.0",
          "model_name": "HBoxModel",
          "state": {
            "_dom_classes": [],
            "_model_module": "@jupyter-widgets/controls",
            "_model_module_version": "1.5.0",
            "_model_name": "HBoxModel",
            "_view_count": null,
            "_view_module": "@jupyter-widgets/controls",
            "_view_module_version": "1.5.0",
            "_view_name": "HBoxView",
            "box_style": "",
            "children": [
              "IPY_MODEL_83aa7c0492ac4ddd87cb378335535f89",
              "IPY_MODEL_e2a5881530c5469ea8d9aa11e8c73a46",
              "IPY_MODEL_092ddcad794e4900be07305b8151ac96"
            ],
            "layout": "IPY_MODEL_4c536fa021fa498b829f62bf58dc6834"
          }
        },
        "bb50858ac6324c219f04d56485fc02fe": {
          "model_module": "@jupyter-widgets/controls",
          "model_module_version": "1.5.0",
          "model_name": "DescriptionStyleModel",
          "state": {
            "_model_module": "@jupyter-widgets/controls",
            "_model_module_version": "1.5.0",
            "_model_name": "DescriptionStyleModel",
            "_view_count": null,
            "_view_module": "@jupyter-widgets/base",
            "_view_module_version": "1.2.0",
            "_view_name": "StyleView",
            "description_width": ""
          }
        },
        "bc32e14766f241889e3fd691096f5e33": {
          "model_module": "@jupyter-widgets/base",
          "model_module_version": "1.2.0",
          "model_name": "LayoutModel",
          "state": {
            "_model_module": "@jupyter-widgets/base",
            "_model_module_version": "1.2.0",
            "_model_name": "LayoutModel",
            "_view_count": null,
            "_view_module": "@jupyter-widgets/base",
            "_view_module_version": "1.2.0",
            "_view_name": "LayoutView",
            "align_content": null,
            "align_items": null,
            "align_self": null,
            "border": null,
            "bottom": null,
            "display": null,
            "flex": null,
            "flex_flow": null,
            "grid_area": null,
            "grid_auto_columns": null,
            "grid_auto_flow": null,
            "grid_auto_rows": null,
            "grid_column": null,
            "grid_gap": null,
            "grid_row": null,
            "grid_template_areas": null,
            "grid_template_columns": null,
            "grid_template_rows": null,
            "height": null,
            "justify_content": null,
            "justify_items": null,
            "left": null,
            "margin": null,
            "max_height": null,
            "max_width": null,
            "min_height": null,
            "min_width": null,
            "object_fit": null,
            "object_position": null,
            "order": null,
            "overflow": null,
            "overflow_x": null,
            "overflow_y": null,
            "padding": null,
            "right": null,
            "top": null,
            "visibility": null,
            "width": null
          }
        },
        "c689cfac19e64198942aafbc1dd1647e": {
          "model_module": "@jupyter-widgets/base",
          "model_module_version": "1.2.0",
          "model_name": "LayoutModel",
          "state": {
            "_model_module": "@jupyter-widgets/base",
            "_model_module_version": "1.2.0",
            "_model_name": "LayoutModel",
            "_view_count": null,
            "_view_module": "@jupyter-widgets/base",
            "_view_module_version": "1.2.0",
            "_view_name": "LayoutView",
            "align_content": null,
            "align_items": null,
            "align_self": null,
            "border": null,
            "bottom": null,
            "display": null,
            "flex": null,
            "flex_flow": null,
            "grid_area": null,
            "grid_auto_columns": null,
            "grid_auto_flow": null,
            "grid_auto_rows": null,
            "grid_column": null,
            "grid_gap": null,
            "grid_row": null,
            "grid_template_areas": null,
            "grid_template_columns": null,
            "grid_template_rows": null,
            "height": null,
            "justify_content": null,
            "justify_items": null,
            "left": null,
            "margin": null,
            "max_height": null,
            "max_width": null,
            "min_height": null,
            "min_width": null,
            "object_fit": null,
            "object_position": null,
            "order": null,
            "overflow": null,
            "overflow_x": null,
            "overflow_y": null,
            "padding": null,
            "right": null,
            "top": null,
            "visibility": null,
            "width": null
          }
        },
        "d368ae41c01c459b96df20bfb22dcb75": {
          "model_module": "@jupyter-widgets/controls",
          "model_module_version": "1.5.0",
          "model_name": "HTMLModel",
          "state": {
            "_dom_classes": [],
            "_model_module": "@jupyter-widgets/controls",
            "_model_module_version": "1.5.0",
            "_model_name": "HTMLModel",
            "_view_count": null,
            "_view_module": "@jupyter-widgets/controls",
            "_view_module_version": "1.5.0",
            "_view_name": "HTMLView",
            "description": "",
            "description_tooltip": null,
            "layout": "IPY_MODEL_bc32e14766f241889e3fd691096f5e33",
            "placeholder": "​",
            "style": "IPY_MODEL_d934354bde2840e48209debaee95add5",
            "value": " 31/31 [00:08&lt;00:00,  7.07it/s]"
          }
        },
        "d934354bde2840e48209debaee95add5": {
          "model_module": "@jupyter-widgets/controls",
          "model_module_version": "1.5.0",
          "model_name": "DescriptionStyleModel",
          "state": {
            "_model_module": "@jupyter-widgets/controls",
            "_model_module_version": "1.5.0",
            "_model_name": "DescriptionStyleModel",
            "_view_count": null,
            "_view_module": "@jupyter-widgets/base",
            "_view_module_version": "1.2.0",
            "_view_name": "StyleView",
            "description_width": ""
          }
        },
        "e2a5881530c5469ea8d9aa11e8c73a46": {
          "model_module": "@jupyter-widgets/controls",
          "model_module_version": "1.5.0",
          "model_name": "FloatProgressModel",
          "state": {
            "_dom_classes": [],
            "_model_module": "@jupyter-widgets/controls",
            "_model_module_version": "1.5.0",
            "_model_name": "FloatProgressModel",
            "_view_count": null,
            "_view_module": "@jupyter-widgets/controls",
            "_view_module_version": "1.5.0",
            "_view_name": "ProgressView",
            "bar_style": "success",
            "description": "",
            "description_tooltip": null,
            "layout": "IPY_MODEL_f36385e91e9d4b74a40bb6d263deab5c",
            "max": 31,
            "min": 0,
            "orientation": "horizontal",
            "style": "IPY_MODEL_6e39a204f82941198f51fc4768ea7a22",
            "value": 31
          }
        },
        "e75b137bb0b04d5eb11b241e03e65837": {
          "model_module": "@jupyter-widgets/controls",
          "model_module_version": "1.5.0",
          "model_name": "ProgressStyleModel",
          "state": {
            "_model_module": "@jupyter-widgets/controls",
            "_model_module_version": "1.5.0",
            "_model_name": "ProgressStyleModel",
            "_view_count": null,
            "_view_module": "@jupyter-widgets/base",
            "_view_module_version": "1.2.0",
            "_view_name": "StyleView",
            "bar_color": null,
            "description_width": ""
          }
        },
        "f2d1ae7a3e2d469d9997257361991e17": {
          "model_module": "@jupyter-widgets/base",
          "model_module_version": "1.2.0",
          "model_name": "LayoutModel",
          "state": {
            "_model_module": "@jupyter-widgets/base",
            "_model_module_version": "1.2.0",
            "_model_name": "LayoutModel",
            "_view_count": null,
            "_view_module": "@jupyter-widgets/base",
            "_view_module_version": "1.2.0",
            "_view_name": "LayoutView",
            "align_content": null,
            "align_items": null,
            "align_self": null,
            "border": null,
            "bottom": null,
            "display": null,
            "flex": null,
            "flex_flow": null,
            "grid_area": null,
            "grid_auto_columns": null,
            "grid_auto_flow": null,
            "grid_auto_rows": null,
            "grid_column": null,
            "grid_gap": null,
            "grid_row": null,
            "grid_template_areas": null,
            "grid_template_columns": null,
            "grid_template_rows": null,
            "height": null,
            "justify_content": null,
            "justify_items": null,
            "left": null,
            "margin": null,
            "max_height": null,
            "max_width": null,
            "min_height": null,
            "min_width": null,
            "object_fit": null,
            "object_position": null,
            "order": null,
            "overflow": null,
            "overflow_x": null,
            "overflow_y": null,
            "padding": null,
            "right": null,
            "top": null,
            "visibility": null,
            "width": null
          }
        },
        "f36385e91e9d4b74a40bb6d263deab5c": {
          "model_module": "@jupyter-widgets/base",
          "model_module_version": "1.2.0",
          "model_name": "LayoutModel",
          "state": {
            "_model_module": "@jupyter-widgets/base",
            "_model_module_version": "1.2.0",
            "_model_name": "LayoutModel",
            "_view_count": null,
            "_view_module": "@jupyter-widgets/base",
            "_view_module_version": "1.2.0",
            "_view_name": "LayoutView",
            "align_content": null,
            "align_items": null,
            "align_self": null,
            "border": null,
            "bottom": null,
            "display": null,
            "flex": null,
            "flex_flow": null,
            "grid_area": null,
            "grid_auto_columns": null,
            "grid_auto_flow": null,
            "grid_auto_rows": null,
            "grid_column": null,
            "grid_gap": null,
            "grid_row": null,
            "grid_template_areas": null,
            "grid_template_columns": null,
            "grid_template_rows": null,
            "height": null,
            "justify_content": null,
            "justify_items": null,
            "left": null,
            "margin": null,
            "max_height": null,
            "max_width": null,
            "min_height": null,
            "min_width": null,
            "object_fit": null,
            "object_position": null,
            "order": null,
            "overflow": null,
            "overflow_x": null,
            "overflow_y": null,
            "padding": null,
            "right": null,
            "top": null,
            "visibility": null,
            "width": null
          }
        },
        "f367bc32f65f498ab1a1dfd589fe02b7": {
          "model_module": "@jupyter-widgets/controls",
          "model_module_version": "1.5.0",
          "model_name": "DescriptionStyleModel",
          "state": {
            "_model_module": "@jupyter-widgets/controls",
            "_model_module_version": "1.5.0",
            "_model_name": "DescriptionStyleModel",
            "_view_count": null,
            "_view_module": "@jupyter-widgets/base",
            "_view_module_version": "1.2.0",
            "_view_name": "StyleView",
            "description_width": ""
          }
        },
        "fe5b42b2520d4b219bfba9205c00b92c": {
          "model_module": "@jupyter-widgets/controls",
          "model_module_version": "1.5.0",
          "model_name": "HTMLModel",
          "state": {
            "_dom_classes": [],
            "_model_module": "@jupyter-widgets/controls",
            "_model_module_version": "1.5.0",
            "_model_name": "HTMLModel",
            "_view_count": null,
            "_view_module": "@jupyter-widgets/controls",
            "_view_module_version": "1.5.0",
            "_view_name": "HTMLView",
            "description": "",
            "description_tooltip": null,
            "layout": "IPY_MODEL_9b9e4a5841ef4c6595226a9bd55f89e6",
            "placeholder": "​",
            "style": "IPY_MODEL_f367bc32f65f498ab1a1dfd589fe02b7",
            "value": "Batches: 100%"
          }
        }
      }
    }
  },
  "nbformat": 4,
  "nbformat_minor": 0
}
